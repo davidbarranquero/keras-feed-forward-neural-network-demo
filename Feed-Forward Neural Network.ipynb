{
 "cells": [
  {
   "cell_type": "markdown",
   "id": "8c83d6b7",
   "metadata": {},
   "source": [
    "# Feed-Forward Neural Network"
   ]
  },
  {
   "cell_type": "markdown",
   "id": "851fc3c3",
   "metadata": {},
   "source": [
    "### David Barranquero"
   ]
  },
  {
   "cell_type": "code",
   "execution_count": 1,
   "id": "3bee6615",
   "metadata": {},
   "outputs": [
    {
     "name": "stderr",
     "output_type": "stream",
     "text": [
      "2022-12-10 15:20:50.333337: I tensorflow/core/platform/cpu_feature_guard.cc:193] This TensorFlow binary is optimized with oneAPI Deep Neural Network Library (oneDNN) to use the following CPU instructions in performance-critical operations:  AVX2 FMA\n",
      "To enable them in other operations, rebuild TensorFlow with the appropriate compiler flags.\n"
     ]
    }
   ],
   "source": [
    "import tensorflow as tf\n",
    "from tensorflow import keras\n",
    "import numpy as np\n",
    "import pandas as pd\n",
    "import matplotlib.pyplot as plt\n",
    "from sklearn.model_selection import GridSearchCV"
   ]
  },
  {
   "cell_type": "code",
   "execution_count": 2,
   "id": "f720f3e7",
   "metadata": {},
   "outputs": [],
   "source": [
    "%matplotlib inline"
   ]
  },
  {
   "cell_type": "markdown",
   "id": "18db9190",
   "metadata": {},
   "source": [
    "Firstly, printing the version of Tensorflow I am working with, should there be any compatibility issues."
   ]
  },
  {
   "cell_type": "code",
   "execution_count": 3,
   "id": "73127c2d",
   "metadata": {},
   "outputs": [
    {
     "name": "stdout",
     "output_type": "stream",
     "text": [
      "2.10.0\n"
     ]
    }
   ],
   "source": [
    "print(tf.__version__)"
   ]
  },
  {
   "cell_type": "markdown",
   "id": "1703fc79",
   "metadata": {},
   "source": [
    "Setting a random seed"
   ]
  },
  {
   "cell_type": "code",
   "execution_count": 4,
   "id": "6d29b5b0",
   "metadata": {},
   "outputs": [],
   "source": [
    "random_number = 4760396\n",
    "np.random.seed(random_number)\n",
    "tf.random.set_seed(random_number)"
   ]
  },
  {
   "cell_type": "markdown",
   "id": "1f43c080",
   "metadata": {},
   "source": [
    "For this task, we will be analysing the MAGIC Gamma Telescope dataset which has recorded metrics on gamma rays, and attempts to classify the recorded gamma rays as either gamma, class g, or hadron, class h. The features all relate to the telescopes imaging. The dataset is available at https://archive.ics.uci.edu/ml/datasets/MAGIC+Gamma+Telescope"
   ]
  },
  {
   "cell_type": "markdown",
   "id": "f1a46aa9",
   "metadata": {},
   "source": [
    "## Pre-processing"
   ]
  },
  {
   "cell_type": "markdown",
   "id": "a59c45cd",
   "metadata": {},
   "source": [
    "We define our class labels and our column/feature labels for our dataset"
   ]
  },
  {
   "cell_type": "code",
   "execution_count": 5,
   "id": "c3ece774",
   "metadata": {},
   "outputs": [],
   "source": [
    "classes = ['g', 'h']\n",
    "\n",
    "columns = ['fLength', 'fWidth', 'fSize', 'fConc', 'fConc1', 'fAsym',\n",
    "           'fM3Long', 'fM3Trans', 'fAlpha', 'fDist', 'class']\n",
    "\n",
    "feature_columns = ['fLength', 'fWidth', 'fSize', 'fConc', 'fConc1',\n",
    "                   'fAsym', 'fM3Long', 'fM3Trans', 'fAlpha', 'fDist']"
   ]
  },
  {
   "cell_type": "markdown",
   "id": "4deb9b35",
   "metadata": {},
   "source": [
    "Next, we read in our data."
   ]
  },
  {
   "cell_type": "code",
   "execution_count": 6,
   "id": "30c5ee3d",
   "metadata": {},
   "outputs": [],
   "source": [
    "magic = pd.read_csv('NNData/magic04.data', header=None)\n",
    "magic.columns = columns"
   ]
  },
  {
   "cell_type": "markdown",
   "id": "f44efef4",
   "metadata": {},
   "source": [
    "We look at the descriptive statistics for our data."
   ]
  },
  {
   "cell_type": "code",
   "execution_count": 7,
   "id": "82e27612",
   "metadata": {},
   "outputs": [
    {
     "name": "stdout",
     "output_type": "stream",
     "text": [
      "<class 'pandas.core.frame.DataFrame'>\n",
      "RangeIndex: 19020 entries, 0 to 19019\n",
      "Data columns (total 11 columns):\n",
      " #   Column    Non-Null Count  Dtype  \n",
      "---  ------    --------------  -----  \n",
      " 0   fLength   19020 non-null  float64\n",
      " 1   fWidth    19020 non-null  float64\n",
      " 2   fSize     19020 non-null  float64\n",
      " 3   fConc     19020 non-null  float64\n",
      " 4   fConc1    19020 non-null  float64\n",
      " 5   fAsym     19020 non-null  float64\n",
      " 6   fM3Long   19020 non-null  float64\n",
      " 7   fM3Trans  19020 non-null  float64\n",
      " 8   fAlpha    19020 non-null  float64\n",
      " 9   fDist     19020 non-null  float64\n",
      " 10  class     19020 non-null  object \n",
      "dtypes: float64(10), object(1)\n",
      "memory usage: 1.6+ MB\n",
      "None\n",
      "            fLength        fWidth         fSize         fConc        fConc1  \\\n",
      "count  19020.000000  19020.000000  19020.000000  19020.000000  19020.000000   \n",
      "mean      53.250154     22.180966      2.825017      0.380327      0.214657   \n",
      "std       42.364855     18.346056      0.472599      0.182813      0.110511   \n",
      "min        4.283500      0.000000      1.941300      0.013100      0.000300   \n",
      "25%       24.336000     11.863800      2.477100      0.235800      0.128475   \n",
      "50%       37.147700     17.139900      2.739600      0.354150      0.196500   \n",
      "75%       70.122175     24.739475      3.101600      0.503700      0.285225   \n",
      "max      334.177000    256.382000      5.323300      0.893000      0.675200   \n",
      "\n",
      "              fAsym       fM3Long      fM3Trans        fAlpha         fDist  \n",
      "count  19020.000000  19020.000000  19020.000000  19020.000000  19020.000000  \n",
      "mean      -4.331745     10.545545      0.249726     27.645707    193.818026  \n",
      "std       59.206062     51.000118     20.827439     26.103621     74.731787  \n",
      "min     -457.916100   -331.780000   -205.894700      0.000000      1.282600  \n",
      "25%      -20.586550    -12.842775    -10.849375      5.547925    142.492250  \n",
      "50%        4.013050     15.314100      0.666200     17.679500    191.851450  \n",
      "75%       24.063700     35.837800     10.946425     45.883550    240.563825  \n",
      "max      575.240700    238.321000    179.851000     90.000000    495.561000  \n"
     ]
    }
   ],
   "source": [
    "print(magic.info())\n",
    "print(magic.describe())"
   ]
  },
  {
   "cell_type": "markdown",
   "id": "cb421bc9",
   "metadata": {},
   "source": [
    "We can see that there are no missing values in our dataset, and all features are continuous quantitative variables. There is also a large dispersion of value ranges among the features with both positive and negative values.\n",
    "\n",
    "Next, we display the first few rows."
   ]
  },
  {
   "cell_type": "code",
   "execution_count": 8,
   "id": "13c528ff",
   "metadata": {},
   "outputs": [
    {
     "name": "stdout",
     "output_type": "stream",
     "text": [
      "    fLength    fWidth   fSize   fConc  fConc1     fAsym  fM3Long  fM3Trans  \\\n",
      "0   28.7967   16.0021  2.6449  0.3918  0.1982   27.7004  22.0110   -8.2027   \n",
      "1   31.6036   11.7235  2.5185  0.5303  0.3773   26.2722  23.8238   -9.9574   \n",
      "2  162.0520  136.0310  4.0612  0.0374  0.0187  116.7410 -64.8580  -45.2160   \n",
      "3   23.8172    9.5728  2.3385  0.6147  0.3922   27.2107  -6.4633   -7.1513   \n",
      "4   75.1362   30.9205  3.1611  0.3168  0.1832   -5.5277  28.5525   21.8393   \n",
      "\n",
      "    fAlpha     fDist class  \n",
      "0  40.0920   81.8828     g  \n",
      "1   6.3609  205.2610     g  \n",
      "2  76.9600  256.7880     g  \n",
      "3  10.4490  116.7370     g  \n",
      "4   4.6480  356.4620     g  \n"
     ]
    }
   ],
   "source": [
    "print(magic.head())"
   ]
  },
  {
   "cell_type": "markdown",
   "id": "15dee586",
   "metadata": {},
   "source": [
    "Furthermore, we look at the distribution of our classes."
   ]
  },
  {
   "cell_type": "code",
   "execution_count": 9,
   "id": "9159beb8",
   "metadata": {},
   "outputs": [
    {
     "name": "stdout",
     "output_type": "stream",
     "text": [
      "g    12332\n",
      "h     6688\n",
      "Name: class, dtype: int64\n"
     ]
    }
   ],
   "source": [
    "print(magic['class'].value_counts())"
   ]
  },
  {
   "cell_type": "markdown",
   "id": "1505086f",
   "metadata": {},
   "source": [
    "We can see that there are almost double the amount of observations for class g as there are class h. From this, we would expect better classification performance for class g than class h."
   ]
  },
  {
   "cell_type": "markdown",
   "id": "5abcd238",
   "metadata": {},
   "source": [
    "Because neural networks can only work with numerical inputs, we are going to create a mapping for our target variable using 0 for g and 1 for h. This also corresponds to their index position in the class labels vector, and will pair up with the sigmoid probabilities later on. We perform the mapping and then print out the first few rows to check that everything has worked correctly."
   ]
  },
  {
   "cell_type": "code",
   "execution_count": 10,
   "id": "e4c0beb1",
   "metadata": {},
   "outputs": [
    {
     "name": "stdout",
     "output_type": "stream",
     "text": [
      "0    0\n",
      "1    0\n",
      "2    0\n",
      "3    0\n",
      "4    0\n",
      "Name: class, dtype: int64\n"
     ]
    }
   ],
   "source": [
    "magic['class'] = magic['class'].map({'g': 0, 'h': 1})\n",
    "\n",
    "print(magic['class'].head())"
   ]
  },
  {
   "cell_type": "markdown",
   "id": "3a660cd0",
   "metadata": {},
   "source": [
    "For splitting our dataset, we will perform stratified sampling via proportional allocation. This will mean that our training and test datasets will have the same class distributions as the original dataset. Stratified sampling is best performed when the mean response of the different groups in the strata are very different, and has the effect of achieving a lower sampling variance, the variance of all the possible samples I could take with a particular sampling design, when compared to simple random sampling. We perform the sampling as follows."
   ]
  },
  {
   "cell_type": "code",
   "execution_count": 11,
   "id": "b2436f10",
   "metadata": {},
   "outputs": [],
   "source": [
    "# We will use proportional allocation to perform the Stratified Sampling\n",
    "# First we separate all the values of the data\n",
    "magic_g = magic.index[magic['class'] == 0].tolist()\n",
    "magic_h = magic.index[magic['class'] == 1].tolist()\n",
    "\n",
    "# And store these in a list\n",
    "target_classes = [magic_g, magic_h]\n",
    "\n",
    "# Our function to split the records into training and test,\n",
    "def split_train_test(df, test_ratio):\n",
    "    training_idx_full = []\n",
    "    test_idx_full = []\n",
    "    for i in range(0, 2):  # We perform this random sampling for each stratum, labels of the target variable\n",
    "        training_idx, test_idx = shuffle_and_split(target_classes[i], len(target_classes[i]), test_ratio)\n",
    "        training_idx_full.extend(training_idx)\n",
    "        test_idx_full.extend(test_idx)\n",
    "\n",
    "    return df.iloc[training_idx_full].copy(), df.iloc[test_idx_full].copy()\n",
    "\n",
    "\n",
    "# Our function to decide which rows will be for the test data set\n",
    "def shuffle_and_split(indices, length, test_ratio):\n",
    "    np.random.shuffle(indices)\n",
    "    test_set_size = round(length * test_ratio)\n",
    "    test_indices = indices[:test_set_size]\n",
    "    train_indices = indices[test_set_size:]\n",
    "    return train_indices, test_indices"
   ]
  },
  {
   "cell_type": "markdown",
   "id": "b3707b6a",
   "metadata": {},
   "source": [
    "We call our function to get the training and test datasets.\n",
    "Our specification requires a 70/30 train/test split. Later, we will also use 10% of the training data for the validation set."
   ]
  },
  {
   "cell_type": "code",
   "execution_count": 12,
   "id": "8c86490f",
   "metadata": {},
   "outputs": [],
   "source": [
    "training_data, test_data = split_train_test(magic, 0.3)"
   ]
  },
  {
   "cell_type": "markdown",
   "id": "42a9828f",
   "metadata": {},
   "source": [
    "Next, we will validate that our stratified sampling was performed correctly."
   ]
  },
  {
   "cell_type": "code",
   "execution_count": 13,
   "id": "dcc72f90",
   "metadata": {},
   "outputs": [
    {
     "name": "stdout",
     "output_type": "stream",
     "text": [
      "\n",
      "Proportion of data in Training set: 0.7\n",
      "Proportion of data in Test set: 0.3\n"
     ]
    }
   ],
   "source": [
    "# Sanity checks on data size\n",
    "print('\\nProportion of data in Training set:', \n",
    "      round(len(training_data) / len(magic), 4))\n",
    "\n",
    "print('Proportion of data in Test set:', \n",
    "      round(len(test_data) / len(magic), 4))"
   ]
  },
  {
   "cell_type": "code",
   "execution_count": 14,
   "id": "9855944d",
   "metadata": {},
   "outputs": [
    {
     "name": "stdout",
     "output_type": "stream",
     "text": [
      "   Training Strat  Test Strat  Original DF  Training Diff  Test Diff\n",
      "0         0.64834     0.64844      0.64837       -0.00003    0.00007\n",
      "1         0.35166     0.35156      0.35163        0.00003   -0.00007\n"
     ]
    }
   ],
   "source": [
    "# Calculating how well our Stratified Sampler performed\n",
    "training_prop = training_data['class'].value_counts() / len(training_data)\n",
    "test_prop = test_data['class'].value_counts() / len(test_data)\n",
    "original_prop = magic['class'].value_counts() / len(magic)\n",
    "\n",
    "# Build a DF containing the performance stats\n",
    "strat_stats = pd.DataFrame({\n",
    "    \"Training Strat\": training_prop,\n",
    "    \"Test Strat\": test_prop,\n",
    "    \"Original DF\": original_prop,\n",
    "    \"Training Diff\": training_prop - original_prop,\n",
    "    \"Test Diff\": test_prop - original_prop\n",
    "}).sort_index()\n",
    "\n",
    "# Display the stats\n",
    "print(strat_stats.head(10))"
   ]
  },
  {
   "cell_type": "markdown",
   "id": "ec433284",
   "metadata": {},
   "source": [
    "Next, we create the design matrices for our training and test datasets and remove the target variable from the datasets."
   ]
  },
  {
   "cell_type": "code",
   "execution_count": 15,
   "id": "b5c61961",
   "metadata": {},
   "outputs": [],
   "source": [
    "y_train = training_data['class'].to_numpy()\n",
    "training_data = training_data.drop('class', axis=1)\n",
    "X_train = training_data.to_numpy()\n",
    "\n",
    "y_test = test_data['class'].to_numpy()\n",
    "test_data = test_data.drop('class', axis=1)\n",
    "X_test = test_data.to_numpy()"
   ]
  },
  {
   "cell_type": "markdown",
   "id": "2058fa5b",
   "metadata": {},
   "source": [
    "Neural networks perform best when some form of normalisation or standardisation is performed on the feature inputs. Scaling all features will lead to faster convergence of the gradient to a local minimum. We will use Min-Max Normalisation to shrink all values to within the 0 and 1 range, while preserving the distributional shape of the data."
   ]
  },
  {
   "cell_type": "code",
   "execution_count": 16,
   "id": "d1e14e4b",
   "metadata": {},
   "outputs": [],
   "source": [
    "X_train = (X_train - np.min(X_train, axis=0)) / (np.max(X_train, axis=0) - np.min(X_train, axis=0))\n",
    "\n",
    "X_test = (X_test - np.min(X_test, axis=0)) / (np.max(X_test, axis=0) - np.min(X_test, axis=0))"
   ]
  },
  {
   "cell_type": "markdown",
   "id": "6630f15b",
   "metadata": {},
   "source": [
    "Checking that the minimum value is 0 and maximum value is 1 for both datasets for each feature column."
   ]
  },
  {
   "cell_type": "code",
   "execution_count": 17,
   "id": "8941a317",
   "metadata": {},
   "outputs": [
    {
     "name": "stdout",
     "output_type": "stream",
     "text": [
      "Train Min: [0. 0. 0. 0. 0. 0. 0. 0. 0. 0.]\n",
      "Train Max: [1. 1. 1. 1. 1. 1. 1. 1. 1. 1.]\n",
      "Test Min: [0. 0. 0. 0. 0. 0. 0. 0. 0. 0.]\n",
      "Test Max: [1. 1. 1. 1. 1. 1. 1. 1. 1. 1.]\n"
     ]
    }
   ],
   "source": [
    "print('Train Min:', np.min(X_train, axis=0))\n",
    "print('Train Max:', np.max(X_train, axis=0))\n",
    "\n",
    "print('Test Min:', np.min(X_test, axis=0))\n",
    "print('Test Max:', np.max(X_test, axis=0))"
   ]
  },
  {
   "cell_type": "markdown",
   "id": "8fbd52c4",
   "metadata": {},
   "source": [
    "Next, we will take 10 percent from our training dataset to use for the validation set. Our dataset is presented with all 'g' targets first, and then all 'h' targets. So just taking from the top or tail of the dataset will result in only one class of variables to validate with. So we will take a class proportional amount from the top and tail, to be consistent with our previous stratified sampling."
   ]
  },
  {
   "cell_type": "code",
   "execution_count": 18,
   "id": "2bcbdc76",
   "metadata": {},
   "outputs": [],
   "source": [
    "# How many rows are we going to take in total\n",
    "valid_size = round(X_train.shape[0] * 0.1)\n",
    "\n",
    "# We calculate the index of how many 'g' rows to take.\n",
    "first_part = round(valid_size * original_prop[0])\n",
    "\n",
    "# And the index of how many 'h' rows to take.\n",
    "second_part = len(X_train) - round(valid_size * original_prop[1])\n",
    "\n",
    "# We take from the top and tail from both the features and the target\n",
    "X_1, X_train, X_2 = X_train[:first_part], X_train[first_part:second_part], X_train[second_part:]\n",
    "y_1, y_train, y_2 = y_train[:first_part], y_train[first_part:second_part], y_train[second_part:]\n",
    "\n",
    "# Then vertically stack the features and horizontally stack the targets (as its a 1D array)\n",
    "X_valid = np.vstack((X_1, X_2))\n",
    "y_valid = np.hstack((y_1, y_2))"
   ]
  },
  {
   "cell_type": "markdown",
   "id": "1626fe33",
   "metadata": {},
   "source": [
    "We now print out the shapes of each dataset, to ensure everything is correct."
   ]
  },
  {
   "cell_type": "code",
   "execution_count": 19,
   "id": "38cc8907",
   "metadata": {},
   "outputs": [
    {
     "name": "stdout",
     "output_type": "stream",
     "text": [
      "(11983, 10)\n",
      "(11983,)\n",
      "(1331, 10)\n",
      "(1331,)\n",
      "(5706, 10)\n",
      "(5706,)\n"
     ]
    }
   ],
   "source": [
    "print(X_train.shape)\n",
    "print(y_train.shape)\n",
    "print(X_valid.shape)\n",
    "print(y_valid.shape)\n",
    "print(X_test.shape)\n",
    "print(y_test.shape)"
   ]
  },
  {
   "cell_type": "markdown",
   "id": "57e75695",
   "metadata": {},
   "source": [
    "## Creating Our Network"
   ]
  },
  {
   "cell_type": "markdown",
   "id": "cfb617e3",
   "metadata": {},
   "source": [
    "Now that the pre-processing is complete, we are ready to build our neural network. Generally, better performance on neural networks can be achieved by building a network that has fewer parameters and more layers. This is because it can reduce overparameterising our model and overfitting to our training data, but also by more layers, we promote the feature construction by the network in identifying lines and shapes, then features, then the object. As a starting point, we will construct an initial network with 3 hidden layers and 50 neurons, as an educated guess of what will produce a good classification model.\n",
    "\n",
    "The input layer can be specified in the first hidden layer using the input_dim parameter. Here we specify that the input is 10 feature columns. We will be using the ReLU activation function for our hidden layers, where ReLU(a) = max(0,a). ReLU is commonly used in state-of-the-art deep learning technologies, such as facial recognition technology, as it eliminates the vanishing/exploding gradient of earlier activations such as the sigmoid activation, as the derivative of ReLU for positive values is 1, avoiding small number multiplications through the chain rule when calculating the gradient of the loss function. Furthermore ReLU also promotes sparsity by setting negatively activated neurons to 0, leading to faster calculations and gradient convergence. \n",
    "\n",
    "Because we are performing binary classificaton, we will just have one neuron in the final layer, which produces a probability of the positive class. The sigmoid function, which maps the real number line to the (0,1) interval, is most commonly used in logistic regression in modelling the log-odds of a binary target variable. Given how we have coded our classes as 0 or 1 and indexed the labels, a probability closer to 0 indicates the 0 mapped class which is at index 0 of the labels, so class 'g'. A probability closer to 1 is the opposite, we predict class 'h'."
   ]
  },
  {
   "cell_type": "code",
   "execution_count": 20,
   "id": "cf0e96aa",
   "metadata": {},
   "outputs": [
    {
     "name": "stderr",
     "output_type": "stream",
     "text": [
      "2022-12-10 15:21:01.517317: I tensorflow/core/platform/cpu_feature_guard.cc:193] This TensorFlow binary is optimized with oneAPI Deep Neural Network Library (oneDNN) to use the following CPU instructions in performance-critical operations:  AVX2 FMA\n",
      "To enable them in other operations, rebuild TensorFlow with the appropriate compiler flags.\n"
     ]
    }
   ],
   "source": [
    "model = keras.models.Sequential()\n",
    "model.add(keras.layers.Dense(50, input_dim=10, activation='relu'))\n",
    "model.add(keras.layers.Dense(50, activation='relu'))\n",
    "model.add(keras.layers.Dense(50, activation='relu'))\n",
    "model.add(keras.layers.Dense(1, activation='sigmoid'))"
   ]
  },
  {
   "cell_type": "markdown",
   "id": "8b1c6035",
   "metadata": {},
   "source": [
    "With regards to the model summary, we can see the number of parameters (weights and biases) in each layer. So our first layer has 10 input features, 10 weights per feature plus 1 bias per neuron for 50 neurons, so 550 parameters in total.\n",
    "\n",
    "We can view the dimensions of these weights and biases as follows."
   ]
  },
  {
   "cell_type": "code",
   "execution_count": 21,
   "id": "214060ca",
   "metadata": {},
   "outputs": [
    {
     "name": "stdout",
     "output_type": "stream",
     "text": [
      "(10, 50)\n",
      "(50,)\n"
     ]
    }
   ],
   "source": [
    "weights, biases = model.layers[0].get_weights()\n",
    "\n",
    "print(weights.shape)\n",
    "print(biases.shape)"
   ]
  },
  {
   "cell_type": "markdown",
   "id": "099d4a1c",
   "metadata": {},
   "source": [
    "Now that we have constructed our model, we need to compile it. For our gradient optimiser, we will use stochastic gradient descent (SGD). Rather than performing the back-propagation to train a neural network on the entire dataset, which is computationally intensive and time consuming, we will only use a sample of our data. This leads to faster, more imprecise steps towards to gradient functions local minimum, rather than slower, more calculated steps. As an added advantage, the imprecision of the steps can lead to us overshooting the descent, and leaving the local minima region towards the global minima.\n",
    "\n",
    "Our loss function will be binary cross-entropy, as we are performing binary classification on with our model. Furthermore as this is a classification problem, this means that our performance metric will be accuracy."
   ]
  },
  {
   "cell_type": "code",
   "execution_count": 22,
   "id": "e471440a",
   "metadata": {},
   "outputs": [],
   "source": [
    "model.compile(optimizer='SGD', loss='binary_crossentropy', metrics=['accuracy'])"
   ]
  },
  {
   "cell_type": "markdown",
   "id": "770a8c8f",
   "metadata": {},
   "source": [
    "Finally, we fit our model to the training data. As in the lab, we will use 15 epochs, or sweeps over the entire data in our training. We will also use our validation dataset to assess the model fit, and detect any overfitting that may occur."
   ]
  },
  {
   "cell_type": "code",
   "execution_count": 23,
   "id": "7b585444",
   "metadata": {},
   "outputs": [
    {
     "name": "stdout",
     "output_type": "stream",
     "text": [
      "Epoch 1/10\n",
      "375/375 [==============================] - 2s 3ms/step - loss: 0.6374 - accuracy: 0.6500 - val_loss: 0.6090 - val_accuracy: 0.6484\n",
      "Epoch 2/10\n",
      "375/375 [==============================] - 1s 2ms/step - loss: 0.5804 - accuracy: 0.6980 - val_loss: 0.5529 - val_accuracy: 0.7355\n",
      "Epoch 3/10\n",
      "375/375 [==============================] - 1s 2ms/step - loss: 0.5235 - accuracy: 0.7582 - val_loss: 0.5065 - val_accuracy: 0.7618\n",
      "Epoch 4/10\n",
      "375/375 [==============================] - 1s 2ms/step - loss: 0.4893 - accuracy: 0.7748 - val_loss: 0.4846 - val_accuracy: 0.7829\n",
      "Epoch 5/10\n",
      "375/375 [==============================] - 1s 2ms/step - loss: 0.4696 - accuracy: 0.7874 - val_loss: 0.4675 - val_accuracy: 0.7874\n",
      "Epoch 6/10\n",
      "375/375 [==============================] - 1s 2ms/step - loss: 0.4534 - accuracy: 0.7965 - val_loss: 0.4541 - val_accuracy: 0.7994\n",
      "Epoch 7/10\n",
      "375/375 [==============================] - 1s 2ms/step - loss: 0.4399 - accuracy: 0.8021 - val_loss: 0.4460 - val_accuracy: 0.7956\n",
      "Epoch 8/10\n",
      "375/375 [==============================] - 1s 2ms/step - loss: 0.4284 - accuracy: 0.8066 - val_loss: 0.4306 - val_accuracy: 0.8069\n",
      "Epoch 9/10\n",
      "375/375 [==============================] - 1s 2ms/step - loss: 0.4184 - accuracy: 0.8105 - val_loss: 0.4216 - val_accuracy: 0.8114\n",
      "Epoch 10/10\n",
      "375/375 [==============================] - 1s 2ms/step - loss: 0.4109 - accuracy: 0.8157 - val_loss: 0.4169 - val_accuracy: 0.8152\n"
     ]
    }
   ],
   "source": [
    "n_epochs = 10\n",
    "fitted_model = model.fit(X_train, y_train, epochs=n_epochs, \n",
    "                         validation_data=(X_valid, y_valid))"
   ]
  },
  {
   "cell_type": "markdown",
   "id": "c24fbdc6",
   "metadata": {},
   "source": [
    "We can visualise the training accuracy and loss, as well as that of the validation set via a plot."
   ]
  },
  {
   "cell_type": "code",
   "execution_count": 24,
   "id": "f347a690",
   "metadata": {},
   "outputs": [
    {
     "data": {
      "image/png": "[encoded data removed]",
      "text/plain": [
       "<Figure size 432x288 with 1 Axes>"
      ]
     },
     "metadata": {
      "needs_background": "light"
     },
     "output_type": "display_data"
    }
   ],
   "source": [
    "pd.DataFrame(fitted_model.history).plot()\n",
    "plt.show()"
   ]
  },
  {
   "cell_type": "markdown",
   "id": "b62af7bd",
   "metadata": {},
   "source": [
    "From this plot, we can observe strong model performance. With the successive sweeps over the dataset, our models training accuracy has continued to rise, and the loss has continued to decrease, which indicates that our model is updating the weights and biases in a correct manner. \n",
    "\n",
    "Furthermore, the validation accuracy and loss is close to that of the training set. If our model was overfitting, we would expect to see strong training accuracy, but poor validation accuracy, as our model fits too closely to the noise of individual observations and does not generalise well. As this is not observed, this is a good thing and suggests our model is NOT overfitting."
   ]
  },
  {
   "cell_type": "markdown",
   "id": "abe54c67",
   "metadata": {},
   "source": [
    "Next, we will evaluate the models performance on the test set."
   ]
  },
  {
   "cell_type": "code",
   "execution_count": 25,
   "id": "d84f8e9f",
   "metadata": {},
   "outputs": [
    {
     "name": "stdout",
     "output_type": "stream",
     "text": [
      "179/179 [==============================] - 0s 2ms/step - loss: 0.4149 - accuracy: 0.8214\n",
      "[0.4149346947669983, 0.8214160799980164]\n"
     ]
    }
   ],
   "source": [
    "print(model.evaluate(X_test, y_test))"
   ]
  },
  {
   "cell_type": "markdown",
   "id": "f78247d6",
   "metadata": {},
   "source": [
    "Overall, this is a strong test accuracy for our model, and indicates a strong overall classification ability.\n",
    "\n",
    "Before we begin fine-tuning the model, we want to ensure that the model is behaving correctly and producing valid output. There is no point trying to optimise a model which is not giving valid output. We will assess the predictions for both some observations from class g and some from class h."
   ]
  },
  {
   "cell_type": "code",
   "execution_count": 26,
   "id": "6149141d",
   "metadata": {},
   "outputs": [
    {
     "name": "stdout",
     "output_type": "stream",
     "text": [
      "1/1 [==============================] - 0s 98ms/step\n",
      "Predicted: [0. 0. 0.]\n",
      "True:  [0 0 0]\n"
     ]
    }
   ],
   "source": [
    "# Let's try predicting some 'g' classes\n",
    "X_new = X_test[:3]\n",
    "y_prob = model.predict(X_new)\n",
    "y_pred = np.round([y_prob[0][0], y_prob[1][0], y_prob[2][0]])\n",
    "print('Predicted:', y_pred)\n",
    "print('True: ', y_test[:3])"
   ]
  },
  {
   "cell_type": "code",
   "execution_count": 27,
   "id": "1bb357a6",
   "metadata": {},
   "outputs": [
    {
     "name": "stdout",
     "output_type": "stream",
     "text": [
      "1/1 [==============================] - 0s 22ms/step\n",
      "Predicted: [0. 0. 1.]\n",
      "True:  [1 1 1]\n"
     ]
    }
   ],
   "source": [
    "# And now some 'h' classes\n",
    "X_new = X_test[-3:]\n",
    "y_prob = model.predict(X_new)\n",
    "y_pred = np.round([y_prob[0][0], y_prob[1][0], y_prob[2][0]])\n",
    "print('Predicted:', y_pred)\n",
    "print('True: ', y_test[-3:])"
   ]
  },
  {
   "cell_type": "markdown",
   "id": "d0469973",
   "metadata": {},
   "source": [
    "As we can see, our model is producing valid output. In this little sample, we are also performing better at classifying the 'g' class than the 'h' class. This is likely an effect of 'g' having almost double the observations as 'h' in the training dataset, and so we are observing better classification performance for 'g'.\n",
    "\n",
    "Next, we will move onto hyperparameter fine-tuning."
   ]
  },
  {
   "cell_type": "markdown",
   "id": "60f70e25",
   "metadata": {},
   "source": [
    "## Fine-Tuning Hyperparameters"
   ]
  },
  {
   "cell_type": "markdown",
   "id": "4672b7f4",
   "metadata": {},
   "source": [
    "To fine-tune our hyperparameters for our model, we will be performing grid search via cross-validation. We will be wrapping the code we used to implement our model in a function and then wrapping this in a KerasClassifier wrapper so that we can use the Scikit Learn GridSearchCV function with our keras model."
   ]
  },
  {
   "cell_type": "code",
   "execution_count": 28,
   "id": "9ddd7da4",
   "metadata": {},
   "outputs": [
    {
     "name": "stderr",
     "output_type": "stream",
     "text": [
      "/var/folders/f_/3vhcqh5j54n5rh_ffnt1jks80000gn/T/ipykernel_98751/3954053308.py:17: DeprecationWarning: KerasClassifier is deprecated, use Sci-Keras (https://github.com/adriangb/scikeras) instead. See https://www.adriangb.com/scikeras/stable/migration.html for help migrating.\n",
      "  keras_classifier = keras.wrappers.scikit_learn.KerasClassifier(build_model)\n"
     ]
    }
   ],
   "source": [
    "def build_model(n_hidden, n_neurons):\n",
    "    print('\\nn_hidden={0}, n_neurons={1}'\n",
    "          .format(n_hidden, n_neurons))\n",
    "    \n",
    "    model = keras.models.Sequential()\n",
    "    model.add(keras.layers.Dense(n_neurons, input_dim=10, activation='relu'))\n",
    "    for _ in range(n_hidden - 1):\n",
    "        model.add(keras.layers.Dense(n_neurons, activation='relu'))\n",
    "    model.add(keras.layers.Dense(1, activation='sigmoid'))\n",
    "    \n",
    "    model.compile(optimizer='SGD', \n",
    "                  loss='binary_crossentropy', \n",
    "                  metrics=['accuracy'])\n",
    "    \n",
    "    return model\n",
    "\n",
    "keras_classifier = keras.wrappers.scikit_learn.KerasClassifier(build_model)"
   ]
  },
  {
   "cell_type": "markdown",
   "id": "3e4b7049",
   "metadata": {},
   "source": [
    "With regards to the hyperparameter grid to trial, we will be trialing two different components. Firstly, the number of hidden layers, we will trial both our three hidden layer model, and a deeper 4 hidden layer model. We will also test to see what the optimal number of neurons is. Again we have our default amount from the previous model, and also double the amount."
   ]
  },
  {
   "cell_type": "code",
   "execution_count": 29,
   "id": "0e504b21",
   "metadata": {},
   "outputs": [],
   "source": [
    "params_to_try = {\n",
    "    'n_hidden': [3, 4],\n",
    "    'n_neurons': [50, 100]\n",
    "}"
   ]
  },
  {
   "cell_type": "markdown",
   "id": "dbbb1cf7",
   "metadata": {},
   "source": [
    "We are also going to include a callback with a patience of 5. This is used to stop training early if we observe the loss begin to rise, or accuracy begin to decrease, suggesting we have reached either a minumum or maximum respectively. The patience of 5 means we wait for 5 epochs without change before halting."
   ]
  },
  {
   "cell_type": "markdown",
   "id": "b963c56e",
   "metadata": {},
   "source": [
    "In total, we have two parameters with two possible values, hence 2x2 = 4 possible combinations. This combined with 5-fold cross validation, and 10 epochs, with a 1 second training time per epoch suggests a 4x5x10/60 = 3.33 minute optimisation time."
   ]
  },
  {
   "cell_type": "code",
   "execution_count": 30,
   "id": "53b481ea",
   "metadata": {},
   "outputs": [
    {
     "name": "stdout",
     "output_type": "stream",
     "text": [
      "\n",
      "n_hidden=3, n_neurons=50\n",
      "Epoch 1/10\n",
      "300/300 [==============================] - 1s 3ms/step - loss: 0.6770 - accuracy: 0.5610 - val_loss: 0.6408 - val_accuracy: 0.6514\n",
      "Epoch 2/10\n",
      "300/300 [==============================] - 1s 2ms/step - loss: 0.6450 - accuracy: 0.6393 - val_loss: 0.6040 - val_accuracy: 0.7318\n",
      "Epoch 3/10\n",
      "300/300 [==============================] - 1s 2ms/step - loss: 0.6003 - accuracy: 0.7166 - val_loss: 0.5596 - val_accuracy: 0.7588\n",
      "Epoch 4/10\n",
      "300/300 [==============================] - 1s 2ms/step - loss: 0.5491 - accuracy: 0.7510 - val_loss: 0.5155 - val_accuracy: 0.7746\n",
      "Epoch 5/10\n",
      "300/300 [==============================] - 1s 2ms/step - loss: 0.5139 - accuracy: 0.7639 - val_loss: 0.4902 - val_accuracy: 0.7866\n",
      "Epoch 6/10\n",
      "300/300 [==============================] - 1s 2ms/step - loss: 0.4937 - accuracy: 0.7719 - val_loss: 0.4876 - val_accuracy: 0.7934\n",
      "Epoch 7/10\n",
      "300/300 [==============================] - 1s 2ms/step - loss: 0.4802 - accuracy: 0.7788 - val_loss: 0.4606 - val_accuracy: 0.7934\n",
      "Epoch 8/10\n",
      "300/300 [==============================] - 1s 2ms/step - loss: 0.4691 - accuracy: 0.7817 - val_loss: 0.4460 - val_accuracy: 0.7949\n",
      "Epoch 9/10\n",
      "300/300 [==============================] - 1s 2ms/step - loss: 0.4600 - accuracy: 0.7849 - val_loss: 0.4405 - val_accuracy: 0.7971\n",
      "Epoch 10/10\n",
      "300/300 [==============================] - 1s 2ms/step - loss: 0.4532 - accuracy: 0.7879 - val_loss: 0.4415 - val_accuracy: 0.7941\n",
      "75/75 [==============================] - 0s 2ms/step - loss: 0.3842 - accuracy: 0.8519\n",
      "\n",
      "n_hidden=3, n_neurons=50\n",
      "Epoch 1/10\n",
      "300/300 [==============================] - 1s 3ms/step - loss: 0.6831 - accuracy: 0.5587 - val_loss: 0.6562 - val_accuracy: 0.6499\n",
      "Epoch 2/10\n",
      "300/300 [==============================] - 1s 2ms/step - loss: 0.6572 - accuracy: 0.6435 - val_loss: 0.6242 - val_accuracy: 0.7355\n",
      "Epoch 3/10\n",
      "300/300 [==============================] - 1s 2ms/step - loss: 0.6164 - accuracy: 0.7252 - val_loss: 0.5819 - val_accuracy: 0.7686\n",
      "Epoch 4/10\n",
      "300/300 [==============================] - 1s 3ms/step - loss: 0.5654 - accuracy: 0.7527 - val_loss: 0.5338 - val_accuracy: 0.7806\n",
      "Epoch 5/10\n",
      "300/300 [==============================] - 1s 3ms/step - loss: 0.5263 - accuracy: 0.7643 - val_loss: 0.4998 - val_accuracy: 0.7829\n",
      "Epoch 6/10\n",
      "300/300 [==============================] - 1s 3ms/step - loss: 0.5065 - accuracy: 0.7686 - val_loss: 0.4939 - val_accuracy: 0.7949\n",
      "Epoch 7/10\n",
      "300/300 [==============================] - 1s 2ms/step - loss: 0.4957 - accuracy: 0.7748 - val_loss: 0.4771 - val_accuracy: 0.7934\n",
      "Epoch 8/10\n",
      "300/300 [==============================] - 1s 2ms/step - loss: 0.4871 - accuracy: 0.7768 - val_loss: 0.4630 - val_accuracy: 0.7926\n",
      "Epoch 9/10\n",
      "300/300 [==============================] - 1s 2ms/step - loss: 0.4787 - accuracy: 0.7796 - val_loss: 0.4566 - val_accuracy: 0.7934\n",
      "Epoch 10/10\n",
      "300/300 [==============================] - 1s 3ms/step - loss: 0.4718 - accuracy: 0.7817 - val_loss: 0.4596 - val_accuracy: 0.7926\n",
      "75/75 [==============================] - 0s 2ms/step - loss: 0.4037 - accuracy: 0.8661\n",
      "\n",
      "n_hidden=3, n_neurons=50\n",
      "Epoch 1/10\n",
      "300/300 [==============================] - 2s 3ms/step - loss: 0.6688 - accuracy: 0.5717 - val_loss: 0.6340 - val_accuracy: 0.6597\n",
      "Epoch 2/10\n",
      "300/300 [==============================] - 1s 3ms/step - loss: 0.6358 - accuracy: 0.6513 - val_loss: 0.5980 - val_accuracy: 0.7137\n",
      "Epoch 3/10\n",
      "300/300 [==============================] - 1s 3ms/step - loss: 0.5931 - accuracy: 0.7150 - val_loss: 0.5591 - val_accuracy: 0.7536\n",
      "Epoch 4/10\n",
      "300/300 [==============================] - 1s 2ms/step - loss: 0.5487 - accuracy: 0.7434 - val_loss: 0.5218 - val_accuracy: 0.7739\n",
      "Epoch 5/10\n",
      "300/300 [==============================] - 1s 2ms/step - loss: 0.5190 - accuracy: 0.7609 - val_loss: 0.4974 - val_accuracy: 0.7806\n",
      "Epoch 6/10\n",
      "300/300 [==============================] - 1s 2ms/step - loss: 0.5011 - accuracy: 0.7676 - val_loss: 0.4965 - val_accuracy: 0.7889\n",
      "Epoch 7/10\n",
      "300/300 [==============================] - 1s 2ms/step - loss: 0.4890 - accuracy: 0.7753 - val_loss: 0.4710 - val_accuracy: 0.7926\n",
      "Epoch 8/10\n",
      "300/300 [==============================] - 1s 2ms/step - loss: 0.4786 - accuracy: 0.7770 - val_loss: 0.4575 - val_accuracy: 0.7956\n",
      "Epoch 9/10\n",
      "300/300 [==============================] - 1s 2ms/step - loss: 0.4694 - accuracy: 0.7817 - val_loss: 0.4502 - val_accuracy: 0.7971\n",
      "Epoch 10/10\n",
      "300/300 [==============================] - 1s 2ms/step - loss: 0.4618 - accuracy: 0.7835 - val_loss: 0.4470 - val_accuracy: 0.7956\n",
      "75/75 [==============================] - 0s 2ms/step - loss: 0.3829 - accuracy: 0.8544\n",
      "\n",
      "n_hidden=3, n_neurons=50\n",
      "Epoch 1/10\n",
      "300/300 [==============================] - 1s 3ms/step - loss: 0.5760 - accuracy: 0.7479 - val_loss: 0.6316 - val_accuracy: 0.6484\n",
      "Epoch 2/10\n",
      "300/300 [==============================] - 1s 2ms/step - loss: 0.5198 - accuracy: 0.7501 - val_loss: 0.5974 - val_accuracy: 0.6529\n",
      "Epoch 3/10\n",
      "300/300 [==============================] - 1s 2ms/step - loss: 0.4826 - accuracy: 0.7730 - val_loss: 0.5648 - val_accuracy: 0.7062\n",
      "Epoch 4/10\n",
      "300/300 [==============================] - 1s 2ms/step - loss: 0.4513 - accuracy: 0.8007 - val_loss: 0.5391 - val_accuracy: 0.7318\n",
      "Epoch 5/10\n",
      "300/300 [==============================] - 1s 2ms/step - loss: 0.4316 - accuracy: 0.8103 - val_loss: 0.5159 - val_accuracy: 0.7528\n",
      "Epoch 6/10\n",
      "300/300 [==============================] - 1s 2ms/step - loss: 0.4211 - accuracy: 0.8163 - val_loss: 0.5108 - val_accuracy: 0.7596\n",
      "Epoch 7/10\n",
      "300/300 [==============================] - 1s 2ms/step - loss: 0.4139 - accuracy: 0.8202 - val_loss: 0.4934 - val_accuracy: 0.7701\n",
      "Epoch 8/10\n",
      "300/300 [==============================] - 1s 2ms/step - loss: 0.4081 - accuracy: 0.8223 - val_loss: 0.4793 - val_accuracy: 0.7784\n",
      "Epoch 9/10\n",
      "300/300 [==============================] - 1s 2ms/step - loss: 0.4015 - accuracy: 0.8271 - val_loss: 0.4924 - val_accuracy: 0.7716\n",
      "Epoch 10/10\n",
      "300/300 [==============================] - 1s 2ms/step - loss: 0.3964 - accuracy: 0.8318 - val_loss: 0.4729 - val_accuracy: 0.7814\n",
      "75/75 [==============================] - 0s 2ms/step - loss: 0.7422 - accuracy: 0.6035\n",
      "\n",
      "n_hidden=3, n_neurons=50\n",
      "Epoch 1/10\n",
      "300/300 [==============================] - 1s 3ms/step - loss: 0.5438 - accuracy: 0.7900 - val_loss: 0.6779 - val_accuracy: 0.6484\n",
      "Epoch 2/10\n",
      "300/300 [==============================] - 1s 2ms/step - loss: 0.4723 - accuracy: 0.8104 - val_loss: 0.6899 - val_accuracy: 0.6484\n",
      "Epoch 3/10\n",
      "300/300 [==============================] - 1s 2ms/step - loss: 0.4561 - accuracy: 0.8104 - val_loss: 0.6700 - val_accuracy: 0.6484\n",
      "Epoch 4/10\n",
      "300/300 [==============================] - 1s 2ms/step - loss: 0.4365 - accuracy: 0.8104 - val_loss: 0.6451 - val_accuracy: 0.6484\n",
      "Epoch 5/10\n",
      "300/300 [==============================] - 1s 2ms/step - loss: 0.4131 - accuracy: 0.8122 - val_loss: 0.6042 - val_accuracy: 0.6634\n",
      "Epoch 6/10\n",
      "300/300 [==============================] - 1s 2ms/step - loss: 0.3900 - accuracy: 0.8336 - val_loss: 0.5791 - val_accuracy: 0.7107\n",
      "Epoch 7/10\n",
      "300/300 [==============================] - 1s 2ms/step - loss: 0.3735 - accuracy: 0.8460 - val_loss: 0.5608 - val_accuracy: 0.7400\n",
      "Epoch 8/10\n",
      "300/300 [==============================] - 1s 2ms/step - loss: 0.3625 - accuracy: 0.8530 - val_loss: 0.5371 - val_accuracy: 0.7483\n",
      "Epoch 9/10\n",
      "300/300 [==============================] - 1s 2ms/step - loss: 0.3539 - accuracy: 0.8579 - val_loss: 0.5532 - val_accuracy: 0.7431\n",
      "Epoch 10/10\n",
      "300/300 [==============================] - 1s 2ms/step - loss: 0.3470 - accuracy: 0.8611 - val_loss: 0.5157 - val_accuracy: 0.7648\n",
      "75/75 [==============================] - 0s 2ms/step - loss: 1.1442 - accuracy: 0.4044\n",
      "\n",
      "n_hidden=3, n_neurons=100\n",
      "Epoch 1/10\n",
      "300/300 [==============================] - 1s 3ms/step - loss: 0.6797 - accuracy: 0.5482 - val_loss: 0.6499 - val_accuracy: 0.6431\n",
      "Epoch 2/10\n",
      "300/300 [==============================] - 1s 2ms/step - loss: 0.6508 - accuracy: 0.6393 - val_loss: 0.6198 - val_accuracy: 0.7047\n",
      "Epoch 3/10\n",
      "300/300 [==============================] - 1s 2ms/step - loss: 0.6121 - accuracy: 0.7078 - val_loss: 0.5809 - val_accuracy: 0.7528\n",
      "Epoch 4/10\n"
     ]
    },
    {
     "name": "stdout",
     "output_type": "stream",
     "text": [
      "300/300 [==============================] - 1s 2ms/step - loss: 0.5636 - accuracy: 0.7383 - val_loss: 0.5353 - val_accuracy: 0.7686\n",
      "Epoch 5/10\n",
      "300/300 [==============================] - 1s 2ms/step - loss: 0.5254 - accuracy: 0.7552 - val_loss: 0.4991 - val_accuracy: 0.7769\n",
      "Epoch 6/10\n",
      "300/300 [==============================] - 1s 2ms/step - loss: 0.5019 - accuracy: 0.7683 - val_loss: 0.4938 - val_accuracy: 0.7919\n",
      "Epoch 7/10\n",
      "300/300 [==============================] - 1s 2ms/step - loss: 0.4871 - accuracy: 0.7777 - val_loss: 0.4683 - val_accuracy: 0.7889\n",
      "Epoch 8/10\n",
      "300/300 [==============================] - 1s 2ms/step - loss: 0.4746 - accuracy: 0.7802 - val_loss: 0.4517 - val_accuracy: 0.7911\n",
      "Epoch 9/10\n",
      "300/300 [==============================] - 1s 2ms/step - loss: 0.4638 - accuracy: 0.7845 - val_loss: 0.4446 - val_accuracy: 0.7964\n",
      "Epoch 10/10\n",
      "300/300 [==============================] - 1s 2ms/step - loss: 0.4551 - accuracy: 0.7890 - val_loss: 0.4452 - val_accuracy: 0.7971\n",
      "75/75 [==============================] - 0s 2ms/step - loss: 0.3935 - accuracy: 0.8515\n",
      "\n",
      "n_hidden=3, n_neurons=100\n",
      "Epoch 1/10\n",
      "300/300 [==============================] - 1s 3ms/step - loss: 0.6705 - accuracy: 0.5986 - val_loss: 0.6372 - val_accuracy: 0.7002\n",
      "Epoch 2/10\n",
      "300/300 [==============================] - 1s 2ms/step - loss: 0.6298 - accuracy: 0.6987 - val_loss: 0.5902 - val_accuracy: 0.7393\n",
      "Epoch 3/10\n",
      "300/300 [==============================] - 1s 2ms/step - loss: 0.5757 - accuracy: 0.7395 - val_loss: 0.5420 - val_accuracy: 0.7746\n",
      "Epoch 4/10\n",
      "300/300 [==============================] - 1s 2ms/step - loss: 0.5292 - accuracy: 0.7594 - val_loss: 0.5073 - val_accuracy: 0.7799\n",
      "Epoch 5/10\n",
      "300/300 [==============================] - 1s 2ms/step - loss: 0.5056 - accuracy: 0.7688 - val_loss: 0.4857 - val_accuracy: 0.7866\n",
      "Epoch 6/10\n",
      "300/300 [==============================] - 1s 2ms/step - loss: 0.4915 - accuracy: 0.7701 - val_loss: 0.4855 - val_accuracy: 0.7934\n",
      "Epoch 7/10\n",
      "300/300 [==============================] - 1s 2ms/step - loss: 0.4817 - accuracy: 0.7751 - val_loss: 0.4662 - val_accuracy: 0.7919\n",
      "Epoch 8/10\n",
      "300/300 [==============================] - 1s 2ms/step - loss: 0.4732 - accuracy: 0.7782 - val_loss: 0.4542 - val_accuracy: 0.7889\n",
      "Epoch 9/10\n",
      "300/300 [==============================] - 1s 2ms/step - loss: 0.4656 - accuracy: 0.7788 - val_loss: 0.4472 - val_accuracy: 0.7911\n",
      "Epoch 10/10\n",
      "300/300 [==============================] - 1s 2ms/step - loss: 0.4591 - accuracy: 0.7807 - val_loss: 0.4493 - val_accuracy: 0.7911\n",
      "75/75 [==============================] - 0s 2ms/step - loss: 0.3978 - accuracy: 0.8481\n",
      "\n",
      "n_hidden=3, n_neurons=100\n",
      "Epoch 1/10\n",
      "300/300 [==============================] - 1s 3ms/step - loss: 0.6697 - accuracy: 0.5822 - val_loss: 0.6387 - val_accuracy: 0.6484\n",
      "Epoch 2/10\n",
      "300/300 [==============================] - 1s 2ms/step - loss: 0.6391 - accuracy: 0.6515 - val_loss: 0.6039 - val_accuracy: 0.7130\n",
      "Epoch 3/10\n",
      "300/300 [==============================] - 1s 2ms/step - loss: 0.5938 - accuracy: 0.7199 - val_loss: 0.5595 - val_accuracy: 0.7581\n",
      "Epoch 4/10\n",
      "300/300 [==============================] - 1s 2ms/step - loss: 0.5433 - accuracy: 0.7488 - val_loss: 0.5175 - val_accuracy: 0.7776\n",
      "Epoch 5/10\n",
      "300/300 [==============================] - 1s 2ms/step - loss: 0.5103 - accuracy: 0.7642 - val_loss: 0.4877 - val_accuracy: 0.7851\n",
      "Epoch 6/10\n",
      "300/300 [==============================] - 1s 2ms/step - loss: 0.4902 - accuracy: 0.7719 - val_loss: 0.4810 - val_accuracy: 0.7956\n",
      "Epoch 7/10\n",
      "300/300 [==============================] - 1s 2ms/step - loss: 0.4772 - accuracy: 0.7762 - val_loss: 0.4592 - val_accuracy: 0.7949\n",
      "Epoch 8/10\n",
      "300/300 [==============================] - 1s 2ms/step - loss: 0.4659 - accuracy: 0.7810 - val_loss: 0.4452 - val_accuracy: 0.8002\n",
      "Epoch 9/10\n",
      "300/300 [==============================] - 1s 2ms/step - loss: 0.4566 - accuracy: 0.7857 - val_loss: 0.4381 - val_accuracy: 0.8002\n",
      "Epoch 10/10\n",
      "300/300 [==============================] - 1s 2ms/step - loss: 0.4493 - accuracy: 0.7890 - val_loss: 0.4362 - val_accuracy: 0.7994\n",
      "75/75 [==============================] - 0s 2ms/step - loss: 0.3792 - accuracy: 0.8577\n",
      "\n",
      "n_hidden=3, n_neurons=100\n",
      "Epoch 1/10\n",
      "300/300 [==============================] - 1s 3ms/step - loss: 0.5743 - accuracy: 0.7501 - val_loss: 0.6513 - val_accuracy: 0.6484\n",
      "Epoch 2/10\n",
      "300/300 [==============================] - 1s 2ms/step - loss: 0.5339 - accuracy: 0.7501 - val_loss: 0.6225 - val_accuracy: 0.6484\n",
      "Epoch 3/10\n",
      "300/300 [==============================] - 1s 2ms/step - loss: 0.5029 - accuracy: 0.7505 - val_loss: 0.5889 - val_accuracy: 0.6582\n",
      "Epoch 4/10\n",
      "300/300 [==============================] - 1s 2ms/step - loss: 0.4682 - accuracy: 0.7800 - val_loss: 0.5550 - val_accuracy: 0.7107\n",
      "Epoch 5/10\n",
      "300/300 [==============================] - 1s 2ms/step - loss: 0.4404 - accuracy: 0.8068 - val_loss: 0.5220 - val_accuracy: 0.7453\n",
      "Epoch 6/10\n",
      "300/300 [==============================] - 1s 2ms/step - loss: 0.4229 - accuracy: 0.8151 - val_loss: 0.5103 - val_accuracy: 0.7596\n",
      "Epoch 7/10\n",
      "300/300 [==============================] - 1s 2ms/step - loss: 0.4106 - accuracy: 0.8226 - val_loss: 0.4873 - val_accuracy: 0.7739\n",
      "Epoch 8/10\n",
      "300/300 [==============================] - 1s 2ms/step - loss: 0.4011 - accuracy: 0.8271 - val_loss: 0.4702 - val_accuracy: 0.7791\n",
      "Epoch 9/10\n",
      "300/300 [==============================] - 1s 2ms/step - loss: 0.3922 - accuracy: 0.8319 - val_loss: 0.4810 - val_accuracy: 0.7784\n",
      "Epoch 10/10\n",
      "300/300 [==============================] - 1s 2ms/step - loss: 0.3858 - accuracy: 0.8365 - val_loss: 0.4598 - val_accuracy: 0.7851\n",
      "75/75 [==============================] - 0s 2ms/step - loss: 0.7211 - accuracy: 0.6181\n",
      "\n",
      "n_hidden=3, n_neurons=100\n",
      "Epoch 1/10\n",
      "300/300 [==============================] - 1s 3ms/step - loss: 0.5121 - accuracy: 0.8100 - val_loss: 0.6910 - val_accuracy: 0.6484\n",
      "Epoch 2/10\n",
      "300/300 [==============================] - 1s 2ms/step - loss: 0.4596 - accuracy: 0.8104 - val_loss: 0.6600 - val_accuracy: 0.6484\n",
      "Epoch 3/10\n",
      "300/300 [==============================] - 1s 2ms/step - loss: 0.4302 - accuracy: 0.8104 - val_loss: 0.6251 - val_accuracy: 0.6484\n",
      "Epoch 4/10\n",
      "300/300 [==============================] - 1s 2ms/step - loss: 0.3995 - accuracy: 0.8240 - val_loss: 0.5963 - val_accuracy: 0.6942\n",
      "Epoch 5/10\n",
      "300/300 [==============================] - 1s 2ms/step - loss: 0.3775 - accuracy: 0.8417 - val_loss: 0.5550 - val_accuracy: 0.7310\n",
      "Epoch 6/10\n",
      "300/300 [==============================] - 1s 2ms/step - loss: 0.3650 - accuracy: 0.8474 - val_loss: 0.5482 - val_accuracy: 0.7385\n",
      "Epoch 7/10\n",
      "300/300 [==============================] - 1s 2ms/step - loss: 0.3573 - accuracy: 0.8503 - val_loss: 0.5431 - val_accuracy: 0.7461\n",
      "Epoch 8/10\n",
      "300/300 [==============================] - 1s 2ms/step - loss: 0.3511 - accuracy: 0.8546 - val_loss: 0.5167 - val_accuracy: 0.7603\n",
      "Epoch 9/10\n",
      "300/300 [==============================] - 1s 2ms/step - loss: 0.3455 - accuracy: 0.8583 - val_loss: 0.5464 - val_accuracy: 0.7536\n",
      "Epoch 10/10\n",
      "300/300 [==============================] - 1s 2ms/step - loss: 0.3407 - accuracy: 0.8605 - val_loss: 0.5035 - val_accuracy: 0.7724\n",
      "75/75 [==============================] - 0s 2ms/step - loss: 1.1104 - accuracy: 0.4232\n",
      "\n",
      "n_hidden=4, n_neurons=50\n",
      "Epoch 1/10\n",
      "300/300 [==============================] - 1s 3ms/step - loss: 0.6803 - accuracy: 0.5604 - val_loss: 0.6519 - val_accuracy: 0.6484\n",
      "Epoch 2/10\n",
      "300/300 [==============================] - 1s 2ms/step - loss: 0.6641 - accuracy: 0.5709 - val_loss: 0.6294 - val_accuracy: 0.6732\n",
      "Epoch 3/10\n",
      "300/300 [==============================] - 1s 2ms/step - loss: 0.6326 - accuracy: 0.6651 - val_loss: 0.5905 - val_accuracy: 0.7438\n",
      "Epoch 4/10\n",
      "300/300 [==============================] - 1s 2ms/step - loss: 0.5780 - accuracy: 0.7345 - val_loss: 0.5322 - val_accuracy: 0.7686\n",
      "Epoch 5/10\n",
      "300/300 [==============================] - 1s 2ms/step - loss: 0.5255 - accuracy: 0.7622 - val_loss: 0.4951 - val_accuracy: 0.7844\n",
      "Epoch 6/10\n",
      "300/300 [==============================] - 1s 2ms/step - loss: 0.5000 - accuracy: 0.7719 - val_loss: 0.4986 - val_accuracy: 0.7896\n",
      "Epoch 7/10\n",
      "300/300 [==============================] - 1s 2ms/step - loss: 0.4870 - accuracy: 0.7762 - val_loss: 0.4644 - val_accuracy: 0.7904\n"
     ]
    },
    {
     "name": "stdout",
     "output_type": "stream",
     "text": [
      "Epoch 8/10\n",
      "300/300 [==============================] - 1s 2ms/step - loss: 0.4755 - accuracy: 0.7809 - val_loss: 0.4514 - val_accuracy: 0.7889\n",
      "Epoch 9/10\n",
      "300/300 [==============================] - 1s 2ms/step - loss: 0.4651 - accuracy: 0.7817 - val_loss: 0.4429 - val_accuracy: 0.7896\n",
      "Epoch 10/10\n",
      "300/300 [==============================] - 1s 2ms/step - loss: 0.4563 - accuracy: 0.7858 - val_loss: 0.4393 - val_accuracy: 0.7949\n",
      "75/75 [==============================] - 0s 2ms/step - loss: 0.3691 - accuracy: 0.8352\n",
      "\n",
      "n_hidden=4, n_neurons=50\n",
      "Epoch 1/10\n",
      "300/300 [==============================] - 1s 3ms/step - loss: 0.6773 - accuracy: 0.5604 - val_loss: 0.6468 - val_accuracy: 0.6484\n",
      "Epoch 2/10\n",
      "300/300 [==============================] - 1s 2ms/step - loss: 0.6556 - accuracy: 0.5920 - val_loss: 0.6150 - val_accuracy: 0.7062\n",
      "Epoch 3/10\n",
      "300/300 [==============================] - 1s 2ms/step - loss: 0.6175 - accuracy: 0.6908 - val_loss: 0.5714 - val_accuracy: 0.7506\n",
      "Epoch 4/10\n",
      "300/300 [==============================] - 1s 2ms/step - loss: 0.5676 - accuracy: 0.7362 - val_loss: 0.5246 - val_accuracy: 0.7678\n",
      "Epoch 5/10\n",
      "300/300 [==============================] - 1s 2ms/step - loss: 0.5242 - accuracy: 0.7570 - val_loss: 0.4926 - val_accuracy: 0.7844\n",
      "Epoch 6/10\n",
      "300/300 [==============================] - 1s 2ms/step - loss: 0.4966 - accuracy: 0.7684 - val_loss: 0.4872 - val_accuracy: 0.7956\n",
      "Epoch 7/10\n",
      "300/300 [==============================] - 1s 2ms/step - loss: 0.4796 - accuracy: 0.7767 - val_loss: 0.4562 - val_accuracy: 0.7964\n",
      "Epoch 8/10\n",
      "300/300 [==============================] - 1s 2ms/step - loss: 0.4642 - accuracy: 0.7827 - val_loss: 0.4384 - val_accuracy: 0.7941\n",
      "Epoch 9/10\n",
      "300/300 [==============================] - 1s 2ms/step - loss: 0.4506 - accuracy: 0.7858 - val_loss: 0.4275 - val_accuracy: 0.8017\n",
      "Epoch 10/10\n",
      "300/300 [==============================] - 1s 2ms/step - loss: 0.4406 - accuracy: 0.7917 - val_loss: 0.4206 - val_accuracy: 0.8024\n",
      "75/75 [==============================] - 0s 2ms/step - loss: 0.3500 - accuracy: 0.8615\n",
      "\n",
      "n_hidden=4, n_neurons=50\n",
      "Epoch 1/10\n",
      "300/300 [==============================] - 1s 3ms/step - loss: 0.6770 - accuracy: 0.5604 - val_loss: 0.6452 - val_accuracy: 0.6484\n",
      "Epoch 2/10\n",
      "300/300 [==============================] - 1s 2ms/step - loss: 0.6571 - accuracy: 0.5870 - val_loss: 0.6169 - val_accuracy: 0.6950\n",
      "Epoch 3/10\n",
      "300/300 [==============================] - 1s 2ms/step - loss: 0.6198 - accuracy: 0.6916 - val_loss: 0.5757 - val_accuracy: 0.7588\n",
      "Epoch 4/10\n",
      "300/300 [==============================] - 1s 2ms/step - loss: 0.5646 - accuracy: 0.7435 - val_loss: 0.5268 - val_accuracy: 0.7746\n",
      "Epoch 5/10\n",
      "300/300 [==============================] - 1s 2ms/step - loss: 0.5224 - accuracy: 0.7604 - val_loss: 0.4964 - val_accuracy: 0.7851\n",
      "Epoch 6/10\n",
      "300/300 [==============================] - 1s 2ms/step - loss: 0.4978 - accuracy: 0.7688 - val_loss: 0.4941 - val_accuracy: 0.7866\n",
      "Epoch 7/10\n",
      "300/300 [==============================] - 1s 2ms/step - loss: 0.4806 - accuracy: 0.7736 - val_loss: 0.4600 - val_accuracy: 0.7926\n",
      "Epoch 8/10\n",
      "300/300 [==============================] - 1s 2ms/step - loss: 0.4659 - accuracy: 0.7781 - val_loss: 0.4437 - val_accuracy: 0.7941\n",
      "Epoch 9/10\n",
      "300/300 [==============================] - 1s 2ms/step - loss: 0.4535 - accuracy: 0.7824 - val_loss: 0.4330 - val_accuracy: 0.7971\n",
      "Epoch 10/10\n",
      "300/300 [==============================] - 1s 2ms/step - loss: 0.4451 - accuracy: 0.7851 - val_loss: 0.4301 - val_accuracy: 0.7994\n",
      "75/75 [==============================] - 0s 2ms/step - loss: 0.3834 - accuracy: 0.8306\n",
      "\n",
      "n_hidden=4, n_neurons=50\n",
      "Epoch 1/10\n",
      "300/300 [==============================] - 1s 3ms/step - loss: 0.5940 - accuracy: 0.7387 - val_loss: 0.6499 - val_accuracy: 0.6484\n",
      "Epoch 2/10\n",
      "300/300 [==============================] - 1s 2ms/step - loss: 0.5444 - accuracy: 0.7501 - val_loss: 0.6279 - val_accuracy: 0.6484\n",
      "Epoch 3/10\n",
      "300/300 [==============================] - 1s 2ms/step - loss: 0.5112 - accuracy: 0.7505 - val_loss: 0.5886 - val_accuracy: 0.6551\n",
      "Epoch 4/10\n",
      "300/300 [==============================] - 1s 2ms/step - loss: 0.4645 - accuracy: 0.7822 - val_loss: 0.5369 - val_accuracy: 0.7107\n",
      "Epoch 5/10\n",
      "300/300 [==============================] - 1s 2ms/step - loss: 0.4283 - accuracy: 0.8054 - val_loss: 0.4991 - val_accuracy: 0.7528\n",
      "Epoch 6/10\n",
      "300/300 [==============================] - 1s 2ms/step - loss: 0.4106 - accuracy: 0.8198 - val_loss: 0.4928 - val_accuracy: 0.7648\n",
      "Epoch 7/10\n",
      "300/300 [==============================] - 1s 2ms/step - loss: 0.4010 - accuracy: 0.8247 - val_loss: 0.4780 - val_accuracy: 0.7761\n",
      "Epoch 8/10\n",
      "300/300 [==============================] - 1s 2ms/step - loss: 0.3939 - accuracy: 0.8308 - val_loss: 0.4562 - val_accuracy: 0.7904\n",
      "Epoch 9/10\n",
      "300/300 [==============================] - 1s 2ms/step - loss: 0.3865 - accuracy: 0.8326 - val_loss: 0.4739 - val_accuracy: 0.7814\n",
      "Epoch 10/10\n",
      "300/300 [==============================] - 1s 2ms/step - loss: 0.3821 - accuracy: 0.8347 - val_loss: 0.4582 - val_accuracy: 0.7821\n",
      "75/75 [==============================] - 0s 2ms/step - loss: 0.7275 - accuracy: 0.6139\n",
      "\n",
      "n_hidden=4, n_neurons=50\n",
      "Epoch 1/10\n",
      "300/300 [==============================] - 1s 3ms/step - loss: 0.5223 - accuracy: 0.8026 - val_loss: 0.7027 - val_accuracy: 0.6484\n",
      "Epoch 2/10\n",
      "300/300 [==============================] - 1s 2ms/step - loss: 0.4742 - accuracy: 0.8104 - val_loss: 0.6885 - val_accuracy: 0.6484\n",
      "Epoch 3/10\n",
      "300/300 [==============================] - 1s 2ms/step - loss: 0.4539 - accuracy: 0.8104 - val_loss: 0.6599 - val_accuracy: 0.6484\n",
      "Epoch 4/10\n",
      "300/300 [==============================] - 1s 2ms/step - loss: 0.4232 - accuracy: 0.8105 - val_loss: 0.6239 - val_accuracy: 0.6544\n",
      "Epoch 5/10\n",
      "300/300 [==============================] - 1s 2ms/step - loss: 0.3905 - accuracy: 0.8319 - val_loss: 0.5636 - val_accuracy: 0.7243\n",
      "Epoch 6/10\n",
      "300/300 [==============================] - 1s 2ms/step - loss: 0.3707 - accuracy: 0.8477 - val_loss: 0.5535 - val_accuracy: 0.7363\n",
      "Epoch 7/10\n",
      "300/300 [==============================] - 1s 2ms/step - loss: 0.3598 - accuracy: 0.8526 - val_loss: 0.5550 - val_accuracy: 0.7438\n",
      "Epoch 8/10\n",
      "300/300 [==============================] - 1s 2ms/step - loss: 0.3519 - accuracy: 0.8565 - val_loss: 0.5154 - val_accuracy: 0.7626\n",
      "Epoch 9/10\n",
      "300/300 [==============================] - 1s 2ms/step - loss: 0.3454 - accuracy: 0.8615 - val_loss: 0.5568 - val_accuracy: 0.7551\n",
      "Epoch 10/10\n",
      "300/300 [==============================] - 1s 2ms/step - loss: 0.3402 - accuracy: 0.8622 - val_loss: 0.5013 - val_accuracy: 0.7708\n",
      "75/75 [==============================] - 0s 2ms/step - loss: 1.0956 - accuracy: 0.4341\n",
      "\n",
      "n_hidden=4, n_neurons=100\n",
      "Epoch 1/10\n",
      "300/300 [==============================] - 1s 3ms/step - loss: 0.6692 - accuracy: 0.5721 - val_loss: 0.6293 - val_accuracy: 0.6747\n",
      "Epoch 2/10\n",
      "300/300 [==============================] - 1s 2ms/step - loss: 0.6236 - accuracy: 0.6845 - val_loss: 0.5739 - val_accuracy: 0.7385\n",
      "Epoch 3/10\n",
      "300/300 [==============================] - 1s 2ms/step - loss: 0.5641 - accuracy: 0.7378 - val_loss: 0.5273 - val_accuracy: 0.7739\n",
      "Epoch 4/10\n",
      "300/300 [==============================] - 1s 2ms/step - loss: 0.5209 - accuracy: 0.7600 - val_loss: 0.4969 - val_accuracy: 0.7866\n",
      "Epoch 5/10\n",
      "300/300 [==============================] - 1s 2ms/step - loss: 0.4964 - accuracy: 0.7721 - val_loss: 0.4683 - val_accuracy: 0.7889\n",
      "Epoch 6/10\n",
      "300/300 [==============================] - 1s 2ms/step - loss: 0.4767 - accuracy: 0.7816 - val_loss: 0.4763 - val_accuracy: 0.7971\n",
      "Epoch 7/10\n",
      "300/300 [==============================] - 1s 3ms/step - loss: 0.4621 - accuracy: 0.7827 - val_loss: 0.4382 - val_accuracy: 0.7956\n",
      "Epoch 8/10\n",
      "300/300 [==============================] - 1s 2ms/step - loss: 0.4486 - accuracy: 0.7900 - val_loss: 0.4235 - val_accuracy: 0.8077\n",
      "Epoch 9/10\n",
      "300/300 [==============================] - 1s 3ms/step - loss: 0.4370 - accuracy: 0.7919 - val_loss: 0.4174 - val_accuracy: 0.8077\n",
      "Epoch 10/10\n",
      "300/300 [==============================] - 1s 3ms/step - loss: 0.4299 - accuracy: 0.7994 - val_loss: 0.4187 - val_accuracy: 0.7949\n",
      "75/75 [==============================] - 0s 2ms/step - loss: 0.3660 - accuracy: 0.8552\n",
      "\n",
      "n_hidden=4, n_neurons=100\n"
     ]
    },
    {
     "name": "stdout",
     "output_type": "stream",
     "text": [
      "Epoch 1/10\n",
      "300/300 [==============================] - 1s 3ms/step - loss: 0.6712 - accuracy: 0.5972 - val_loss: 0.6361 - val_accuracy: 0.6905\n",
      "Epoch 2/10\n",
      "300/300 [==============================] - 1s 3ms/step - loss: 0.6291 - accuracy: 0.6919 - val_loss: 0.5818 - val_accuracy: 0.7363\n",
      "Epoch 3/10\n",
      "300/300 [==============================] - 1s 2ms/step - loss: 0.5680 - accuracy: 0.7409 - val_loss: 0.5290 - val_accuracy: 0.7769\n",
      "Epoch 4/10\n",
      "300/300 [==============================] - 1s 2ms/step - loss: 0.5207 - accuracy: 0.7610 - val_loss: 0.4952 - val_accuracy: 0.7874\n",
      "Epoch 5/10\n",
      "300/300 [==============================] - 1s 2ms/step - loss: 0.4952 - accuracy: 0.7728 - val_loss: 0.4654 - val_accuracy: 0.7956\n",
      "Epoch 6/10\n",
      "300/300 [==============================] - 1s 2ms/step - loss: 0.4761 - accuracy: 0.7796 - val_loss: 0.4622 - val_accuracy: 0.8024\n",
      "Epoch 7/10\n",
      "300/300 [==============================] - 1s 2ms/step - loss: 0.4617 - accuracy: 0.7818 - val_loss: 0.4379 - val_accuracy: 0.7994\n",
      "Epoch 8/10\n",
      "300/300 [==============================] - 1s 2ms/step - loss: 0.4491 - accuracy: 0.7884 - val_loss: 0.4227 - val_accuracy: 0.8084\n",
      "Epoch 9/10\n",
      "300/300 [==============================] - 1s 2ms/step - loss: 0.4376 - accuracy: 0.7923 - val_loss: 0.4160 - val_accuracy: 0.8099\n",
      "Epoch 10/10\n",
      "300/300 [==============================] - 1s 3ms/step - loss: 0.4311 - accuracy: 0.7965 - val_loss: 0.4199 - val_accuracy: 0.7986\n",
      "75/75 [==============================] - 0s 2ms/step - loss: 0.3846 - accuracy: 0.8444\n",
      "\n",
      "n_hidden=4, n_neurons=100\n",
      "Epoch 1/10\n",
      "300/300 [==============================] - 1s 3ms/step - loss: 0.6797 - accuracy: 0.5549 - val_loss: 0.6526 - val_accuracy: 0.6484\n",
      "Epoch 2/10\n",
      "300/300 [==============================] - 1s 2ms/step - loss: 0.6600 - accuracy: 0.5922 - val_loss: 0.6283 - val_accuracy: 0.6912\n",
      "Epoch 3/10\n",
      "300/300 [==============================] - 1s 3ms/step - loss: 0.6252 - accuracy: 0.6943 - val_loss: 0.5880 - val_accuracy: 0.7498\n",
      "Epoch 4/10\n",
      "300/300 [==============================] - 1s 2ms/step - loss: 0.5671 - accuracy: 0.7435 - val_loss: 0.5308 - val_accuracy: 0.7731\n",
      "Epoch 5/10\n",
      "300/300 [==============================] - 1s 2ms/step - loss: 0.5217 - accuracy: 0.7631 - val_loss: 0.4958 - val_accuracy: 0.7851\n",
      "Epoch 6/10\n",
      "300/300 [==============================] - 1s 3ms/step - loss: 0.5006 - accuracy: 0.7723 - val_loss: 0.4930 - val_accuracy: 0.7949\n",
      "Epoch 7/10\n",
      "300/300 [==============================] - 1s 2ms/step - loss: 0.4870 - accuracy: 0.7775 - val_loss: 0.4649 - val_accuracy: 0.7956\n",
      "Epoch 8/10\n",
      "300/300 [==============================] - 1s 3ms/step - loss: 0.4743 - accuracy: 0.7797 - val_loss: 0.4499 - val_accuracy: 0.7934\n",
      "Epoch 9/10\n",
      "300/300 [==============================] - 1s 2ms/step - loss: 0.4627 - accuracy: 0.7839 - val_loss: 0.4418 - val_accuracy: 0.7964\n",
      "Epoch 10/10\n",
      "300/300 [==============================] - 1s 2ms/step - loss: 0.4532 - accuracy: 0.7876 - val_loss: 0.4347 - val_accuracy: 0.8039\n",
      "75/75 [==============================] - 0s 2ms/step - loss: 0.3642 - accuracy: 0.8753\n",
      "\n",
      "n_hidden=4, n_neurons=100\n",
      "Epoch 1/10\n",
      "300/300 [==============================] - 1s 3ms/step - loss: 0.5926 - accuracy: 0.7476 - val_loss: 0.6539 - val_accuracy: 0.6484\n",
      "Epoch 2/10\n",
      "300/300 [==============================] - 1s 2ms/step - loss: 0.5490 - accuracy: 0.7501 - val_loss: 0.6424 - val_accuracy: 0.6484\n",
      "Epoch 3/10\n",
      "300/300 [==============================] - 1s 2ms/step - loss: 0.5232 - accuracy: 0.7501 - val_loss: 0.6088 - val_accuracy: 0.6484\n",
      "Epoch 4/10\n",
      "300/300 [==============================] - 1s 2ms/step - loss: 0.4836 - accuracy: 0.7589 - val_loss: 0.5667 - val_accuracy: 0.6882\n",
      "Epoch 5/10\n",
      "300/300 [==============================] - 1s 2ms/step - loss: 0.4473 - accuracy: 0.8025 - val_loss: 0.5242 - val_accuracy: 0.7461\n",
      "Epoch 6/10\n",
      "300/300 [==============================] - 1s 2ms/step - loss: 0.4235 - accuracy: 0.8166 - val_loss: 0.5080 - val_accuracy: 0.7648\n",
      "Epoch 7/10\n",
      "300/300 [==============================] - 1s 2ms/step - loss: 0.4070 - accuracy: 0.8251 - val_loss: 0.4808 - val_accuracy: 0.7799\n",
      "Epoch 8/10\n",
      "300/300 [==============================] - 1s 2ms/step - loss: 0.3953 - accuracy: 0.8326 - val_loss: 0.4581 - val_accuracy: 0.7904\n",
      "Epoch 9/10\n",
      "300/300 [==============================] - 1s 2ms/step - loss: 0.3847 - accuracy: 0.8383 - val_loss: 0.4644 - val_accuracy: 0.7851\n",
      "Epoch 10/10\n",
      "300/300 [==============================] - 1s 2ms/step - loss: 0.3774 - accuracy: 0.8448 - val_loss: 0.4497 - val_accuracy: 0.7889\n",
      "75/75 [==============================] - 0s 2ms/step - loss: 0.7103 - accuracy: 0.6156\n",
      "\n",
      "n_hidden=4, n_neurons=100\n",
      "Epoch 1/10\n",
      "300/300 [==============================] - 1s 3ms/step - loss: 0.5220 - accuracy: 0.8072 - val_loss: 0.6843 - val_accuracy: 0.6484\n",
      "Epoch 2/10\n",
      "300/300 [==============================] - 1s 2ms/step - loss: 0.4574 - accuracy: 0.8104 - val_loss: 0.6619 - val_accuracy: 0.6484\n",
      "Epoch 3/10\n",
      "300/300 [==============================] - 1s 2ms/step - loss: 0.4258 - accuracy: 0.8105 - val_loss: 0.6175 - val_accuracy: 0.6559\n",
      "Epoch 4/10\n",
      "300/300 [==============================] - 1s 2ms/step - loss: 0.3919 - accuracy: 0.8303 - val_loss: 0.5881 - val_accuracy: 0.7077\n",
      "Epoch 5/10\n",
      "300/300 [==============================] - 1s 2ms/step - loss: 0.3690 - accuracy: 0.8468 - val_loss: 0.5314 - val_accuracy: 0.7476\n",
      "Epoch 6/10\n",
      "300/300 [==============================] - 1s 2ms/step - loss: 0.3546 - accuracy: 0.8550 - val_loss: 0.5272 - val_accuracy: 0.7551\n",
      "Epoch 7/10\n",
      "300/300 [==============================] - 1s 2ms/step - loss: 0.3444 - accuracy: 0.8612 - val_loss: 0.5253 - val_accuracy: 0.7611\n",
      "Epoch 8/10\n",
      "300/300 [==============================] - 1s 2ms/step - loss: 0.3362 - accuracy: 0.8665 - val_loss: 0.4909 - val_accuracy: 0.7799\n",
      "Epoch 9/10\n",
      "300/300 [==============================] - 1s 2ms/step - loss: 0.3286 - accuracy: 0.8711 - val_loss: 0.5345 - val_accuracy: 0.7671\n",
      "Epoch 10/10\n",
      "300/300 [==============================] - 1s 2ms/step - loss: 0.3224 - accuracy: 0.8734 - val_loss: 0.4691 - val_accuracy: 0.7911\n",
      "75/75 [==============================] - 0s 2ms/step - loss: 1.0183 - accuracy: 0.4558\n",
      "\n",
      "n_hidden=4, n_neurons=100\n",
      "Epoch 1/10\n",
      "375/375 [==============================] - 2s 3ms/step - loss: 0.6381 - accuracy: 0.6446 - val_loss: 0.6091 - val_accuracy: 0.6484\n",
      "Epoch 2/10\n",
      "375/375 [==============================] - 1s 2ms/step - loss: 0.5722 - accuracy: 0.6968 - val_loss: 0.5410 - val_accuracy: 0.7273\n",
      "Epoch 3/10\n",
      "375/375 [==============================] - 1s 3ms/step - loss: 0.5071 - accuracy: 0.7612 - val_loss: 0.4924 - val_accuracy: 0.7724\n",
      "Epoch 4/10\n",
      "375/375 [==============================] - 1s 3ms/step - loss: 0.4726 - accuracy: 0.7848 - val_loss: 0.4683 - val_accuracy: 0.7934\n",
      "Epoch 5/10\n",
      "375/375 [==============================] - 1s 2ms/step - loss: 0.4501 - accuracy: 0.7966 - val_loss: 0.4490 - val_accuracy: 0.7941\n",
      "Epoch 6/10\n",
      "375/375 [==============================] - 1s 2ms/step - loss: 0.4317 - accuracy: 0.8039 - val_loss: 0.4366 - val_accuracy: 0.7956\n",
      "Epoch 7/10\n",
      "375/375 [==============================] - 1s 2ms/step - loss: 0.4174 - accuracy: 0.8104 - val_loss: 0.4236 - val_accuracy: 0.8069\n",
      "Epoch 8/10\n",
      "375/375 [==============================] - 1s 2ms/step - loss: 0.4061 - accuracy: 0.8167 - val_loss: 0.4063 - val_accuracy: 0.8159\n",
      "Epoch 9/10\n",
      "375/375 [==============================] - 1s 2ms/step - loss: 0.3973 - accuracy: 0.8224 - val_loss: 0.3977 - val_accuracy: 0.8219\n",
      "Epoch 10/10\n",
      "375/375 [==============================] - 1s 2ms/step - loss: 0.3932 - accuracy: 0.8257 - val_loss: 0.4089 - val_accuracy: 0.8114\n"
     ]
    },
    {
     "data": {
      "text/html": [
       "<style>#sk-container-id-1 {color: black;background-color: white;}#sk-container-id-1 pre{padding: 0;}#sk-container-id-1 div.sk-toggleable {background-color: white;}#sk-container-id-1 label.sk-toggleable__label {cursor: pointer;display: block;width: 100%;margin-bottom: 0;padding: 0.3em;box-sizing: border-box;text-align: center;}#sk-container-id-1 label.sk-toggleable__label-arrow:before {content: \"▸\";float: left;margin-right: 0.25em;color: #696969;}#sk-container-id-1 label.sk-toggleable__label-arrow:hover:before {color: black;}#sk-container-id-1 div.sk-estimator:hover label.sk-toggleable__label-arrow:before {color: black;}#sk-container-id-1 div.sk-toggleable__content {max-height: 0;max-width: 0;overflow: hidden;text-align: left;background-color: #f0f8ff;}#sk-container-id-1 div.sk-toggleable__content pre {margin: 0.2em;color: black;border-radius: 0.25em;background-color: #f0f8ff;}#sk-container-id-1 input.sk-toggleable__control:checked~div.sk-toggleable__content {max-height: 200px;max-width: 100%;overflow: auto;}#sk-container-id-1 input.sk-toggleable__control:checked~label.sk-toggleable__label-arrow:before {content: \"▾\";}#sk-container-id-1 div.sk-estimator input.sk-toggleable__control:checked~label.sk-toggleable__label {background-color: #d4ebff;}#sk-container-id-1 div.sk-label input.sk-toggleable__control:checked~label.sk-toggleable__label {background-color: #d4ebff;}#sk-container-id-1 input.sk-hidden--visually {border: 0;clip: rect(1px 1px 1px 1px);clip: rect(1px, 1px, 1px, 1px);height: 1px;margin: -1px;overflow: hidden;padding: 0;position: absolute;width: 1px;}#sk-container-id-1 div.sk-estimator {font-family: monospace;background-color: #f0f8ff;border: 1px dotted black;border-radius: 0.25em;box-sizing: border-box;margin-bottom: 0.5em;}#sk-container-id-1 div.sk-estimator:hover {background-color: #d4ebff;}#sk-container-id-1 div.sk-parallel-item::after {content: \"\";width: 100%;border-bottom: 1px solid gray;flex-grow: 1;}#sk-container-id-1 div.sk-label:hover label.sk-toggleable__label {background-color: #d4ebff;}#sk-container-id-1 div.sk-serial::before {content: \"\";position: absolute;border-left: 1px solid gray;box-sizing: border-box;top: 0;bottom: 0;left: 50%;z-index: 0;}#sk-container-id-1 div.sk-serial {display: flex;flex-direction: column;align-items: center;background-color: white;padding-right: 0.2em;padding-left: 0.2em;position: relative;}#sk-container-id-1 div.sk-item {position: relative;z-index: 1;}#sk-container-id-1 div.sk-parallel {display: flex;align-items: stretch;justify-content: center;background-color: white;position: relative;}#sk-container-id-1 div.sk-item::before, #sk-container-id-1 div.sk-parallel-item::before {content: \"\";position: absolute;border-left: 1px solid gray;box-sizing: border-box;top: 0;bottom: 0;left: 50%;z-index: -1;}#sk-container-id-1 div.sk-parallel-item {display: flex;flex-direction: column;z-index: 1;position: relative;background-color: white;}#sk-container-id-1 div.sk-parallel-item:first-child::after {align-self: flex-end;width: 50%;}#sk-container-id-1 div.sk-parallel-item:last-child::after {align-self: flex-start;width: 50%;}#sk-container-id-1 div.sk-parallel-item:only-child::after {width: 0;}#sk-container-id-1 div.sk-dashed-wrapped {border: 1px dashed gray;margin: 0 0.4em 0.5em 0.4em;box-sizing: border-box;padding-bottom: 0.4em;background-color: white;}#sk-container-id-1 div.sk-label label {font-family: monospace;font-weight: bold;display: inline-block;line-height: 1.2em;}#sk-container-id-1 div.sk-label-container {text-align: center;}#sk-container-id-1 div.sk-container {/* jupyter's `normalize.less` sets `[hidden] { display: none; }` but bootstrap.min.css set `[hidden] { display: none !important; }` so we also need the `!important` here to be able to override the default hidden behavior on the sphinx rendered scikit-learn.org. See: https://github.com/scikit-learn/scikit-learn/issues/21755 */display: inline-block !important;position: relative;}#sk-container-id-1 div.sk-text-repr-fallback {display: none;}</style><div id=\"sk-container-id-1\" class=\"sk-top-container\"><div class=\"sk-text-repr-fallback\"><pre>GridSearchCV(cv=5,\n",
       "             estimator=&lt;keras.wrappers.scikit_learn.KerasClassifier object at 0x7f8d597c16d0&gt;,\n",
       "             param_grid={&#x27;n_hidden&#x27;: [3, 4], &#x27;n_neurons&#x27;: [50, 100]})</pre><b>In a Jupyter environment, please rerun this cell to show the HTML representation or trust the notebook. <br />On GitHub, the HTML representation is unable to render, please try loading this page with nbviewer.org.</b></div><div class=\"sk-container\" hidden><div class=\"sk-item sk-dashed-wrapped\"><div class=\"sk-label-container\"><div class=\"sk-label sk-toggleable\"><input class=\"sk-toggleable__control sk-hidden--visually\" id=\"sk-estimator-id-1\" type=\"checkbox\" ><label for=\"sk-estimator-id-1\" class=\"sk-toggleable__label sk-toggleable__label-arrow\">GridSearchCV</label><div class=\"sk-toggleable__content\"><pre>GridSearchCV(cv=5,\n",
       "             estimator=&lt;keras.wrappers.scikit_learn.KerasClassifier object at 0x7f8d597c16d0&gt;,\n",
       "             param_grid={&#x27;n_hidden&#x27;: [3, 4], &#x27;n_neurons&#x27;: [50, 100]})</pre></div></div></div><div class=\"sk-parallel\"><div class=\"sk-parallel-item\"><div class=\"sk-item\"><div class=\"sk-label-container\"><div class=\"sk-label sk-toggleable\"><input class=\"sk-toggleable__control sk-hidden--visually\" id=\"sk-estimator-id-2\" type=\"checkbox\" ><label for=\"sk-estimator-id-2\" class=\"sk-toggleable__label sk-toggleable__label-arrow\">estimator: KerasClassifier</label><div class=\"sk-toggleable__content\"><pre>&lt;keras.wrappers.scikit_learn.KerasClassifier object at 0x7f8d597c16d0&gt;</pre></div></div></div><div class=\"sk-serial\"><div class=\"sk-item\"><div class=\"sk-estimator sk-toggleable\"><input class=\"sk-toggleable__control sk-hidden--visually\" id=\"sk-estimator-id-3\" type=\"checkbox\" ><label for=\"sk-estimator-id-3\" class=\"sk-toggleable__label sk-toggleable__label-arrow\">KerasClassifier</label><div class=\"sk-toggleable__content\"><pre>&lt;keras.wrappers.scikit_learn.KerasClassifier object at 0x7f8d597c16d0&gt;</pre></div></div></div></div></div></div></div></div></div></div>"
      ],
      "text/plain": [
       "GridSearchCV(cv=5,\n",
       "             estimator=<keras.wrappers.scikit_learn.KerasClassifier object at 0x7f8d597c16d0>,\n",
       "             param_grid={'n_hidden': [3, 4], 'n_neurons': [50, 100]})"
      ]
     },
     "execution_count": 30,
     "metadata": {},
     "output_type": "execute_result"
    }
   ],
   "source": [
    "grid_search = GridSearchCV(keras_classifier, params_to_try, cv=5)\n",
    "\n",
    "grid_search.fit(X_train, \n",
    "                y_train, \n",
    "                epochs=n_epochs, \n",
    "                validation_data=(X_valid, y_valid),\n",
    "                callbacks=[keras.callbacks.EarlyStopping(patience=10)])"
   ]
  },
  {
   "cell_type": "markdown",
   "id": "6faa15b9",
   "metadata": {},
   "source": [
    "After optimisation, we observe that our best model parameters are as follows."
   ]
  },
  {
   "cell_type": "code",
   "execution_count": 31,
   "id": "c63bf968",
   "metadata": {},
   "outputs": [
    {
     "name": "stdout",
     "output_type": "stream",
     "text": [
      "{'n_hidden': 4, 'n_neurons': 100}\n"
     ]
    }
   ],
   "source": [
    "print(grid_search.best_params_)"
   ]
  },
  {
   "cell_type": "markdown",
   "id": "3981a2b4",
   "metadata": {},
   "source": [
    "These parameters produced the optimal cross validated accuracy on the validation set of,"
   ]
  },
  {
   "cell_type": "code",
   "execution_count": 32,
   "id": "73618ced",
   "metadata": {},
   "outputs": [
    {
     "name": "stdout",
     "output_type": "stream",
     "text": [
      "0.7292508482933044\n"
     ]
    }
   ],
   "source": [
    "print(grid_search.best_score_)"
   ]
  },
  {
   "cell_type": "markdown",
   "id": "5d284801",
   "metadata": {},
   "source": [
    "We can save this model in a variable, and display the network structure as follows"
   ]
  },
  {
   "cell_type": "code",
   "execution_count": 33,
   "id": "75c019e7",
   "metadata": {},
   "outputs": [
    {
     "name": "stdout",
     "output_type": "stream",
     "text": [
      "Model: \"sequential_21\"\n",
      "_________________________________________________________________\n",
      " Layer (type)                Output Shape              Param #   \n",
      "=================================================================\n",
      " dense_94 (Dense)            (None, 100)               1100      \n",
      "                                                                 \n",
      " dense_95 (Dense)            (None, 100)               10100     \n",
      "                                                                 \n",
      " dense_96 (Dense)            (None, 100)               10100     \n",
      "                                                                 \n",
      " dense_97 (Dense)            (None, 100)               10100     \n",
      "                                                                 \n",
      " dense_98 (Dense)            (None, 1)                 101       \n",
      "                                                                 \n",
      "=================================================================\n",
      "Total params: 31,501\n",
      "Trainable params: 31,501\n",
      "Non-trainable params: 0\n",
      "_________________________________________________________________\n",
      "None\n"
     ]
    }
   ],
   "source": [
    "best_model = grid_search.best_estimator_.model\n",
    "\n",
    "print(best_model.summary())"
   ]
  },
  {
   "cell_type": "markdown",
   "id": "adc7be39",
   "metadata": {},
   "source": [
    "Finally, we display the test accuracy of our optimal model."
   ]
  },
  {
   "cell_type": "code",
   "execution_count": 34,
   "id": "c611a7c9",
   "metadata": {},
   "outputs": [
    {
     "name": "stdout",
     "output_type": "stream",
     "text": [
      "179/179 [==============================] - 0s 2ms/step - loss: 0.3947 - accuracy: 0.8342\n",
      "[0.39470264315605164, 0.8342096209526062]\n"
     ]
    }
   ],
   "source": [
    "print(best_model.evaluate(X_test, y_test))"
   ]
  },
  {
   "cell_type": "markdown",
   "id": "c1934f38",
   "metadata": {},
   "source": [
    "While this is only a slight improvement, it has resulted in a neural network with higher classification accuracy. With regards to our original dataset, this means that we are able to better distinguish between the gamma rays as either gamma or hadron."
   ]
  }
 ],
 "metadata": {
  "kernelspec": {
   "display_name": "myenv",
   "language": "python",
   "name": "myenv"
  },
  "language_info": {
   "codemirror_mode": {
    "name": "ipython",
    "version": 3
   },
   "file_extension": ".py",
   "mimetype": "text/x-python",
   "name": "python",
   "nbconvert_exporter": "python",
   "pygments_lexer": "ipython3",
   "version": "3.9.12"
  }
 },
 "nbformat": 4,
 "nbformat_minor": 5
}
